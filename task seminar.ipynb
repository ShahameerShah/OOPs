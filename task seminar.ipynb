{
 "cells": [
  {
   "cell_type": "raw",
   "id": "495b4790",
   "metadata": {},
   "source": [
    "Tasks: print number from 1 to 10 using for loop"
   ]
  },
  {
   "cell_type": "code",
   "execution_count": 3,
   "id": "a131dce4",
   "metadata": {},
   "outputs": [
    {
     "name": "stdout",
     "output_type": "stream",
     "text": [
      "1\n",
      "2\n",
      "3\n",
      "4\n",
      "5\n",
      "6\n",
      "7\n",
      "8\n",
      "9\n",
      "10\n"
     ]
    }
   ],
   "source": [
    "for i in range(1,11):\n",
    "    print (i) \n",
    "    \n"
   ]
  },
  {
   "cell_type": "raw",
   "id": "c628f151",
   "metadata": {},
   "source": [
    "Task 2: print a multiplication Table for a given number 3 using loop."
   ]
  },
  {
   "cell_type": "code",
   "execution_count": 9,
   "id": "2e31328f",
   "metadata": {},
   "outputs": [
    {
     "name": "stdout",
     "output_type": "stream",
     "text": [
      "3 x 1 = 3\n",
      "3 x 2 = 6\n",
      "3 x 3 = 9\n",
      "3 x 4 = 12\n",
      "3 x 5 = 15\n",
      "3 x 6 = 18\n",
      "3 x 7 = 21\n",
      "3 x 8 = 24\n",
      "3 x 9 = 27\n",
      "3 x 10 = 30\n"
     ]
    }
   ],
   "source": [
    "for i in range(1,11):\n",
    "    print('3','x',i,'=',i*3)"
   ]
  },
  {
   "cell_type": "raw",
   "id": "03af4bbb",
   "metadata": {},
   "source": [
    "Task 3: Create a function to add two numbers"
   ]
  },
  {
   "cell_type": "code",
   "execution_count": 32,
   "id": "a68c9dda",
   "metadata": {},
   "outputs": [
    {
     "name": "stdout",
     "output_type": "stream",
     "text": [
      "25\n"
     ]
    }
   ],
   "source": [
    "def add_numbers(a, b):\n",
    "    return a + b\n",
    "\n",
    "result = add_numbers(5, 5)\n",
    "print(result)\n"
   ]
  },
  {
   "cell_type": "raw",
   "id": "c549cfbf",
   "metadata": {},
   "source": [
    "Task 4:Use the Lamda Function To find square of Number.\n"
   ]
  },
  {
   "cell_type": "code",
   "execution_count": 33,
   "id": "fc3f162e",
   "metadata": {},
   "outputs": [
    {
     "name": "stdout",
     "output_type": "stream",
     "text": [
      "16\n"
     ]
    }
   ],
   "source": [
    "square = lambda x :x**2\n",
    "print (square(4))"
   ]
  },
  {
   "cell_type": "raw",
   "id": "88906e04",
   "metadata": {},
   "source": [
    "Task 5: Use f-String to insert a Variable in a sentence\n"
   ]
  },
  {
   "cell_type": "code",
   "execution_count": 7,
   "id": "d753e4c2",
   "metadata": {},
   "outputs": [
    {
     "name": "stdout",
     "output_type": "stream",
     "text": [
      "My name is Ali and I am 30 years old and country is pakistan.\n"
     ]
    }
   ],
   "source": [
    "name = \"Ali\"\n",
    "age = 30\n",
    "country = \"pakistan\"\n",
    "sentence = f\"My name is {name} and I am {age} years old and MY country is {country}.\"\n",
    "print(sentence)  \n"
   ]
  },
  {
   "cell_type": "code",
   "execution_count": null,
   "id": "7309fee9",
   "metadata": {},
   "outputs": [],
   "source": []
  }
 ],
 "metadata": {
  "kernelspec": {
   "display_name": "Python 3 (ipykernel)",
   "language": "python",
   "name": "python3"
  },
  "language_info": {
   "codemirror_mode": {
    "name": "ipython",
    "version": 3
   },
   "file_extension": ".py",
   "mimetype": "text/x-python",
   "name": "python",
   "nbconvert_exporter": "python",
   "pygments_lexer": "ipython3",
   "version": "3.7.1"
  }
 },
 "nbformat": 4,
 "nbformat_minor": 5
}
